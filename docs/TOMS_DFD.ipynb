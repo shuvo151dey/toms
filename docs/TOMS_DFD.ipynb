{
  "nbformat": 4,
  "nbformat_minor": 0,
  "metadata": {
    "colab": {
      "provenance": [],
      "authorship_tag": "ABX9TyN+MA/Do8bq47jJPxQsQRgW",
      "include_colab_link": true
    },
    "kernelspec": {
      "name": "python3",
      "display_name": "Python 3"
    },
    "language_info": {
      "name": "python"
    }
  },
  "cells": [
    {
      "cell_type": "markdown",
      "metadata": {
        "id": "view-in-github",
        "colab_type": "text"
      },
      "source": [
        "<a href=\"https://colab.research.google.com/github/shuvo151dey/toms/blob/main/docs/TOMS_DFD.ipynb\" target=\"_parent\"><img src=\"https://colab.research.google.com/assets/colab-badge.svg\" alt=\"Open In Colab\"/></a>"
      ]
    },
    {
      "cell_type": "code",
      "execution_count": 8,
      "metadata": {
        "id": "X9CjbyzTNdWT"
      },
      "outputs": [],
      "source": [
        "from graphviz import Digraph\n",
        "\n",
        "def create_dfd():\n",
        "    dfd = Digraph(format='png', graph_attr={'rankdir': 'LR'})\n",
        "\n",
        "    # External Entities\n",
        "    dfd.node('Clients', shape='rectangle')\n",
        "    dfd.node('Brokers', shape='rectangle')\n",
        "    dfd.node('Exchanges', label='Exchanges', shape='rectangle')\n",
        "    dfd.node('Regulators', shape='rectangle')\n",
        "    dfd.node('ClearingHouse', label='Clearing House', shape='rectangle')\n",
        "\n",
        "    # Processes\n",
        "    dfd.node('OrderEntry', label='Order Entry', shape='circle')\n",
        "    dfd.node('OrderValidation', label='Order Validation', shape='circle')\n",
        "    dfd.node('OrderRouting', label='Order Routing', shape='circle')\n",
        "    dfd.node('OrderExecution', label='Order Execution', shape='circle')\n",
        "    dfd.node('MarketDataProcessing', label='Market Data Processing', shape='circle')\n",
        "    dfd.node('RiskManagement', label='Risk Management', shape='circle')\n",
        "    dfd.node('TradeConfirmation', label='Trade Confirmation', shape='circle')\n",
        "    dfd.node('SettlementProcessing', label='Settlement Processing', shape='circle')\n",
        "    dfd.node('ReportGeneration', label='Report Generation', shape='circle')\n",
        "    dfd.node('ClientNotification', label='Client Notification', shape='circle')\n",
        "\n",
        "  # Data Stores\n",
        "    dfd.node('ClientDB', label='Client Database', shape='cylinder')\n",
        "    dfd.node('OrderBook', label='Order Book', shape='cylinder')\n",
        "    dfd.node('MarketRepo', label='Market Data Repository', shape='cylinder')\n",
        "    dfd.node('TradeHistory', label='Trade History', shape='cylinder')\n",
        "    dfd.node('ComplianceDB', label='Compliance Database', shape='cylinder')\n",
        "    dfd.node('SettlementDB', label='Settlement Records', shape='cylinder')\n",
        "\n",
        "    # Data Flows\n",
        "    dfd.edge('Clients', 'OrderEntry', 'Order Details')\n",
        "    dfd.edge('OrderEntry', 'OrderValidation', 'Order Data')\n",
        "    dfd.edge('OrderValidation', 'RiskManagement', 'Validated Orders')\n",
        "    dfd.edge('RiskManagement', 'OrderValidation', 'Risk Flags')\n",
        "    dfd.edge('OrderValidation', 'OrderRouting', 'Approved Orders')\n",
        "    dfd.edge('OrderRouting', 'OrderExecution', 'Routed Orders')\n",
        "    dfd.edge('OrderExecution', 'Exchanges', 'Execution Instructions')\n",
        "    dfd.edge('Exchanges', 'OrderExecution', 'Execution Results')\n",
        "    dfd.edge('OrderExecution', 'OrderBook', 'Order Updates')\n",
        "    dfd.edge('OrderExecution', 'TradeConfirmation', 'Executed Orders')\n",
        "    dfd.edge('TradeConfirmation', 'Clients', 'Trade Confirmation')\n",
        "    dfd.edge('TradeConfirmation', 'TradeHistory', 'Trade Records')\n",
        "    dfd.edge('MarketRepo', 'MarketDataProcessing', 'Market Data')\n",
        "    dfd.edge('MarketDataProcessing', 'OrderValidation', 'Market Insights')\n",
        "    dfd.edge('ClientDB', 'RiskManagement', 'Client Risk Profile')\n",
        "    dfd.edge('SettlementProcessing', 'ClearingHouse', 'Settlement Instructions')\n",
        "    dfd.edge('ClearingHouse', 'SettlementProcessing', 'Settlement Confirmations')\n",
        "    dfd.edge('SettlementProcessing', 'SettlementDB', 'Settlement Records')\n",
        "    dfd.edge('ComplianceDB', 'RiskManagement', 'Compliance Rules')\n",
        "    dfd.edge('Regulators', 'ComplianceDB', 'Regulatory Data')\n",
        "    dfd.edge('OrderRouting', 'Brokers', 'Broker Order Details')\n",
        "    dfd.edge('Brokers', 'OrderExecution', 'Broker Execution Results')\n",
        "    dfd.edge('ReportGeneration', 'Clients', 'Reports')\n",
        "    dfd.edge('TradeHistory', 'ReportGeneration', 'Trade Data')\n",
        "    dfd.edge('OrderBook', 'ReportGeneration', 'Order Data')\n",
        "    dfd.edge('Clients', 'ClientNotification', 'Notification Requests')\n",
        "    dfd.edge('ClientNotification', 'Clients', 'Order/Trade Updates')\n",
        "    dfd.edge('TradeConfirmation', 'ClientNotification', 'Trade Details')\n",
        "    dfd.edge('SettlementProcessing', 'ClientNotification', 'Settlement Updates')\n",
        "\n",
        "    # Render the diagram\n",
        "    dfd.render('TOMS_DFD', cleanup=True)\n",
        "\n",
        "# Create the DFD\n",
        "create_dfd()\n"
      ]
    }
  ]
}